{
 "metadata": {
  "name": "",
  "signature": "sha256:d91446a8467ac5bbc1c5416ff2f9ef6ad8d5d2b2b19284093e45ef7aca43def9"
 },
 "nbformat": 3,
 "nbformat_minor": 0,
 "worksheets": [
  {
   "cells": [
    {
     "cell_type": "code",
     "collapsed": false,
     "input": [
      "\n",
      "import json, pycurl"
     ],
     "language": "python",
     "metadata": {},
     "outputs": [
      {
       "ename": "ImportError",
       "evalue": "dlopen(/Users/SamPetulla/anaconda/lib/python2.7/site-packages/pycurl.so, 2): Library not loaded: libssl.1.0.0.dylib\n  Referenced from: /Users/SamPetulla/anaconda/lib/python2.7/site-packages/pycurl.so\n  Reason: image not found",
       "output_type": "pyerr",
       "traceback": [
        "\u001b[0;31m---------------------------------------------------------------------------\u001b[0m\n\u001b[0;31mImportError\u001b[0m                               Traceback (most recent call last)",
        "\u001b[0;32m<ipython-input-1-6e17c2d04494>\u001b[0m in \u001b[0;36m<module>\u001b[0;34m()\u001b[0m\n\u001b[1;32m      1\u001b[0m \u001b[0;34m\u001b[0m\u001b[0m\n\u001b[0;32m----> 2\u001b[0;31m \u001b[0;32mimport\u001b[0m \u001b[0mjson\u001b[0m\u001b[0;34m,\u001b[0m \u001b[0mpycurl\u001b[0m\u001b[0;34m\u001b[0m\u001b[0m\n\u001b[0m",
        "\u001b[0;31mImportError\u001b[0m: dlopen(/Users/SamPetulla/anaconda/lib/python2.7/site-packages/pycurl.so, 2): Library not loaded: libssl.1.0.0.dylib\n  Referenced from: /Users/SamPetulla/anaconda/lib/python2.7/site-packages/pycurl.so\n  Reason: image not found"
       ]
      }
     ],
     "prompt_number": 1
    },
    {
     "cell_type": "code",
     "collapsed": false,
     "input": [
      "url = \"http://data.nbcnews.com/ElectionsApi/2014/CA\""
     ],
     "language": "python",
     "metadata": {},
     "outputs": []
    },
    {
     "cell_type": "code",
     "collapsed": false,
     "input": [
      "from io import BytesIO\n",
      "\n",
      "buffer = BytesIO()\n",
      "\n",
      "c = pycurl.Curl()\n",
      "c.setopt(pycurl.URL, url)\n",
      "c.setopt(pycurl.POST, 1)\n",
      "c.setopt(c.WRITEDATA, buffer)\n",
      "c.perform()"
     ],
     "language": "python",
     "metadata": {},
     "outputs": [],
     "prompt_number": 22
    },
    {
     "cell_type": "code",
     "collapsed": false,
     "input": [
      "body = buffer.getvalue()\n",
      "\n",
      "print(body.decode('iso-8859-1'))"
     ],
     "language": "python",
     "metadata": {},
     "outputs": [
      {
       "output_type": "stream",
       "stream": "stdout",
       "text": [
        "<HTML><HEAD>\n",
        "<TITLE>Bad Request</TITLE>\n",
        "</HEAD><BODY>\n",
        "<H1>Bad Request</H1>\n",
        "Your browser sent a request that this server could not understand.<P>\n",
        "Reference&#32;&#35;7&#46;16f64317&#46;1414789370&#46;1aea9e5e\n",
        "</BODY>\n",
        "</HTML>\n",
        "\n"
       ]
      }
     ],
     "prompt_number": 23
    },
    {
     "cell_type": "code",
     "collapsed": false,
     "input": [],
     "language": "python",
     "metadata": {},
     "outputs": []
    },
    {
     "cell_type": "code",
     "collapsed": false,
     "input": [],
     "language": "python",
     "metadata": {},
     "outputs": []
    },
    {
     "cell_type": "code",
     "collapsed": false,
     "input": [
      "#democratic votes\n",
      "#republica votes\n",
      "#by county\n"
     ],
     "language": "python",
     "metadata": {},
     "outputs": []
    }
   ],
   "metadata": {}
  }
 ]
}